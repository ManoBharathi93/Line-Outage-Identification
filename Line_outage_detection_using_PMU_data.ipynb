{
  "nbformat": 4,
  "nbformat_minor": 0,
  "metadata": {
    "colab": {
      "provenance": []
    },
    "kernelspec": {
      "name": "python3",
      "display_name": "Python 3"
    },
    "language_info": {
      "name": "python"
    }
  },
  "cells": [
    {
      "cell_type": "code",
      "source": [
        "!pip install pandapower"
      ],
      "metadata": {
        "id": "nu7AHcqyRuh8"
      },
      "execution_count": null,
      "outputs": []
    },
    {
      "cell_type": "markdown",
      "source": [
        "## Initial AC power flow Model for IEEE 30 System"
      ],
      "metadata": {
        "id": "PuGCUjX-qb8w"
      }
    },
    {
      "cell_type": "code",
      "source": [
        "import pandapower as pp\n",
        "import pandas as pd\n",
        "import random\n",
        "import pandapower.networks as pn\n",
        "import numpy as np\n",
        "from sklearn.utils import shuffle\n",
        "\n",
        "net = pn.case_ieee30()\n",
        "pp.runpp(net,numba=False) # Solve initial power flow\n",
        "V = net.res_bus.vm_pu  # Voltage magnitudes\n",
        "theta = net.res_bus.va_degree  # Voltage angles\n",
        "num_buses = len(net.bus)\n",
        "dataset = pd.DataFrame(columns=[f\"V{i}\" for i in range(1, num_buses + 1)] +\n",
        "                          [f\"theta{i}\" for i in range(1, num_buses + 1)] +\n",
        "                          [ \"label\"])\n",
        "\n"
      ],
      "metadata": {
        "id": "SFBp36--TbT1"
      },
      "execution_count": 369,
      "outputs": []
    },
    {
      "cell_type": "markdown",
      "source": [
        "\n",
        "## Steps to Generate dataset\n",
        "\n",
        "\n",
        "1.   Simulating Line deletions\n",
        "2.   Changing the load of network\n",
        "3.   Solve power flow for modified system\n",
        "4.   Extract features for modified system\n",
        "5.   Calculate deviations from initial state\n",
        "6.   Create feature vector and label\n",
        "7.   Add noise to voltage and angle measurements\n",
        "8.   Append to dataset\n",
        "9.   Restore lines and load  for next iteration\n",
        "10.  At end of iteration, export the dataset to csv file.\n",
        "\n",
        "\n",
        "\n",
        "\n",
        "\n"
      ],
      "metadata": {
        "id": "Q-u2_1EoqjcW"
      }
    },
    {
      "cell_type": "code",
      "source": [
        "while len(dataset) < 35000:\n",
        "\n",
        "    for line_id in net.line.index:\n",
        "        net.line.loc[line_id, \"in_service\"] = False\n",
        "        load_factor = random.uniform(0.8, 1.2)\n",
        "        net.load.scaling = load_factor\n",
        "        pp.runpp(net,numba=False)\n",
        "\n",
        "        V_prime = net.res_bus.vm_pu\n",
        "        theta_prime = net.res_bus.va_degree\n",
        "\n",
        "        dV = V_prime - V\n",
        "        dtheta = theta_prime - theta\n",
        "\n",
        "        data_point = pd.Series({**{f\"V{i}\": dV[i - 1] for i in range(1, num_buses + 1)},\n",
        "                                  **{f\"theta{i}\": dtheta[i - 1] for i in range(1, num_buses + 1)},\n",
        "                                  **{\"label\": line_id}})  # Combine labels for multiple lines\n",
        "\n",
        "        dV += np.random.normal(scale=0.01, size=dV.shape)\n",
        "        dtheta += np.random.normal(scale=0.01, size=dtheta.shape)\n",
        "\n",
        "        dataset = dataset.append(data_point, ignore_index=True)\n",
        "\n",
        "        net.line.loc[line_id, \"in_service\"] = True\n",
        "        net.load.scaling /= load_factor\n",
        "\n",
        "\n",
        "dataset=shuffle(dataset)\n",
        "dataset.to_csv(\"single_line.csv\", index=False)"
      ],
      "metadata": {
        "id": "YaM-WrYqEhVW"
      },
      "execution_count": null,
      "outputs": []
    },
    {
      "cell_type": "code",
      "source": [
        "net"
      ],
      "metadata": {
        "colab": {
          "base_uri": "https://localhost:8080/"
        },
        "id": "iBAY_PIVMUqW",
        "outputId": "107daf7b-2ce6-4efe-ea2e-fbdbd5667c47"
      },
      "execution_count": 418,
      "outputs": [
        {
          "output_type": "execute_result",
          "data": {
            "text/plain": [
              "This pandapower network includes the following parameter tables:\n",
              "   - bus (30 element)\n",
              "   - load (21 element)\n",
              "   - gen (5 element)\n",
              "   - shunt (2 element)\n",
              "   - ext_grid (1 elements)\n",
              "   - line (34 element)\n",
              "   - trafo (7 element)\n",
              "   - poly_cost (6 element)\n",
              "   - bus_geodata (30 element)\n",
              " and the following results tables:\n",
              "   - res_bus (30 element)\n",
              "   - res_line (34 element)\n",
              "   - res_trafo (7 element)\n",
              "   - res_ext_grid (1 elements)\n",
              "   - res_load (21 element)\n",
              "   - res_shunt (2 element)\n",
              "   - res_gen (5 element)"
            ]
          },
          "metadata": {},
          "execution_count": 418
        }
      ]
    },
    {
      "cell_type": "code",
      "source": [
        "df = pd.read_csv(\"single_line.csv\")\n",
        "df.head()"
      ],
      "metadata": {
        "id": "NPS4rXgX1bvI"
      },
      "execution_count": null,
      "outputs": []
    },
    {
      "cell_type": "markdown",
      "source": [
        "## Modelling"
      ],
      "metadata": {
        "id": "iX2q6KWAvljf"
      }
    },
    {
      "cell_type": "code",
      "source": [
        "import pandas as pd\n",
        "from sklearn.utils import shuffle\n",
        "from sklearn.model_selection import train_test_split  # For splitting into training and validation sets\n",
        "data = pd.read_csv(\"single_line.csv\")\n",
        "X_train, X_test, y_train, y_test = train_test_split(data.drop(\"label\", axis=1), data[\"label\"], test_size=0.2)\n",
        "\n"
      ],
      "metadata": {
        "id": "XpH1yPNzYqGD"
      },
      "execution_count": 372,
      "outputs": []
    },
    {
      "cell_type": "code",
      "source": [
        "print('Features rows:', X_train.shape[0])\n",
        "print('Labels rows:', y_train.shape[0])\n"
      ],
      "metadata": {
        "colab": {
          "base_uri": "https://localhost:8080/"
        },
        "id": "90N1slNQy7yW",
        "outputId": "c9a40460-48ea-48ab-fdbf-1390de795399"
      },
      "execution_count": 387,
      "outputs": [
        {
          "output_type": "stream",
          "name": "stdout",
          "text": [
            "Features rows: 28016\n",
            "Labels rows: 28016\n"
          ]
        }
      ]
    },
    {
      "cell_type": "code",
      "source": [
        "X_train.fillna(0,inplace=True)\n",
        "y_train.fillna(0,inplace=True)"
      ],
      "metadata": {
        "id": "vkyvxEA-FIz9"
      },
      "execution_count": 386,
      "outputs": []
    },
    {
      "cell_type": "code",
      "source": [
        "X_train_array = X_train.values\n",
        "X_train_tensor = torch.from_numpy(X_train_array)\n",
        "X_train_tensor = X_train_tensor.float().to(\"cuda\" if torch.cuda.is_available() else \"cpu\")\n",
        "\n",
        "y_train_tensor = torch.from_numpy(y_train)\n",
        "y_train_tensor = y_train_tensor.float().to(\"cuda\" if torch.cuda.is_available() else \"cpu\")"
      ],
      "metadata": {
        "id": "lQXBvFunI3k-"
      },
      "execution_count": null,
      "outputs": []
    },
    {
      "cell_type": "code",
      "source": [
        "\n",
        "X_test_array = X_test.values\n",
        "X_test_tensor = torch.from_numpy(X_test_array)\n",
        "X_test_tensor = X_test_tensor.float().to(\"cuda\" if torch.cuda.is_available() else \"cpu\")\n",
        "y_test_array = y_test.values\n",
        "y_test_tensor = torch.from_numpy(y_test_array)\n",
        "y_test_tensor = y_test_tensor.float().to(\"cuda\" if torch.cuda.is_available() else \"cpu\")"
      ],
      "metadata": {
        "id": "-GQIaN_AXzda"
      },
      "execution_count": 502,
      "outputs": []
    },
    {
      "cell_type": "code",
      "source": [
        "X_train.shape"
      ],
      "metadata": {
        "colab": {
          "base_uri": "https://localhost:8080/"
        },
        "id": "x7MheaB2K06l",
        "outputId": "2234e8ac-d00d-4cc7-f911-ecca331742d2"
      },
      "execution_count": 437,
      "outputs": [
        {
          "output_type": "execute_result",
          "data": {
            "text/plain": [
              "torch.Size([28016, 60])"
            ]
          },
          "metadata": {},
          "execution_count": 437
        }
      ]
    },
    {
      "cell_type": "code",
      "source": [
        "import torch\n",
        "import torch.nn as nn\n",
        "import torch.nn.functional as F\n",
        "import torch.optim as optim\n",
        "from torch.utils.data import DataLoader\n",
        "torch.manual_seed(42)"
      ],
      "metadata": {
        "id": "xfoKxSV29EYp"
      },
      "execution_count": 459,
      "outputs": []
    },
    {
      "cell_type": "code",
      "source": [
        "n_inputs = X_train.shape[1]\n",
        "num_classes = 34\n"
      ],
      "metadata": {
        "id": "Z-evBwiMOvjk"
      },
      "execution_count": 460,
      "outputs": []
    },
    {
      "cell_type": "code",
      "source": [
        "class MultinomialLogisticRegression(nn.Module):\n",
        "    def __init__(self, input_dim, num_classes):\n",
        "        super(MultinomialLogisticRegression, self).__init__()\n",
        "        self.linear = nn.Linear(input_dim, num_classes)\n",
        "\n",
        "    def forward(self, x):\n",
        "        logits = self.linear(x)\n",
        "        return F.log_softmax(logits, dim=1)  # Apply log-softmax for stability\n",
        "\n",
        "model = MultinomialLogisticRegression(n_inputs,num_classes)\n",
        "output = model(X_train_tensor)"
      ],
      "metadata": {
        "id": "_9MsRRL6RW6c"
      },
      "execution_count": 523,
      "outputs": []
    },
    {
      "cell_type": "code",
      "source": [
        "criterion = torch.nn.CrossEntropyLoss()\n",
        "optimizer = torch.optim.Adam(model.parameters(), lr=0.0002)\n",
        "\n",
        "for epoch in range(10):\n",
        "    running_loss = 0.0\n",
        "\n",
        "\n",
        "    for i in range(len(X_train_tensor)):\n",
        "        inputs = X_train_tensor[i]\n",
        "        labels = y_train_tensor[i]\n",
        "        optimizer.zero_grad()\n",
        "        outputs = model(inputs.unsqueeze(0))\n",
        "        loss = criterion(outputs, labels.unsqueeze(0).long())\n",
        "        loss.backward()\n",
        "        optimizer.step()\n",
        "        running_loss += loss.item()\n",
        "        if i % 200 == 199:\n",
        "            print(f'[{epoch + 1}, {i + 1:5d}] loss: {running_loss / 200:.3f}')\n",
        "            running_loss = 0.0\n",
        "\n",
        "print('Finished Training')"
      ],
      "metadata": {
        "id": "MXC7dEQXRW3t"
      },
      "execution_count": null,
      "outputs": []
    },
    {
      "cell_type": "code",
      "source": [
        "correct = 0\n",
        "total = 0\n",
        "\n",
        "with torch.no_grad():\n",
        "    for i in range(len(X_test_tensor)):\n",
        "        inputs = X_test_tensor[i]\n",
        "        labels = y_test_tensor[i]\n",
        "        outputs = model(inputs.unsqueeze(0))\n",
        "        _, predicted = torch.max(outputs.data, 1)\n",
        "        total += labels.unsqueeze(0).size(0)\n",
        "        correct += (predicted == labels).sum().item()\n",
        "        accuracy = 100 * correct // total\n",
        "\n",
        "\n",
        "print(f'Accuracy of the network on the  test dataset : {accuracy} %')"
      ],
      "metadata": {
        "colab": {
          "base_uri": "https://localhost:8080/"
        },
        "id": "2n_q28euRW04",
        "outputId": "e3a6bab9-c165-4bbd-de64-51c449d0d29c"
      },
      "execution_count": 531,
      "outputs": [
        {
          "output_type": "stream",
          "name": "stdout",
          "text": [
            "Accuracy of the network on the  test dataset : 99 %\n"
          ]
        }
      ]
    },
    {
      "cell_type": "code",
      "source": [
        "y_train_tensor.shape[0]"
      ],
      "metadata": {
        "colab": {
          "base_uri": "https://localhost:8080/"
        },
        "id": "sGVdwMAQpqC_",
        "outputId": "9eda5582-8049-4e94-83fa-edd99cb3e87c"
      },
      "execution_count": 567,
      "outputs": [
        {
          "output_type": "execute_result",
          "data": {
            "text/plain": [
              "28016"
            ]
          },
          "metadata": {},
          "execution_count": 567
        }
      ]
    },
    {
      "cell_type": "code",
      "source": [
        "sample_index = np.random.randint(1,y_test_tensor.shape[0])\n",
        "inputs = X_test_tensor[sample_index]\n",
        "output = model(inputs.unsqueeze(0))\n",
        "predicted_outage_index = output.argmax()\n",
        "\n",
        "line_labels = [\"Line 1\", \"Line 2\", \"Line 3\",\"Line 4\",\"Line 5\",\n",
        "               \"Line 6\",\"Line 7\", \"Line 8\",\"Line 9\", \"Line 10\",\n",
        "               \"Line 11\",\"Line 12\", \"Line 13\",\"Line 14\", \"Line 15\",\n",
        "               \"Line 16\",\"Line 17\", \"Line 18\",\"Line 19\", \"Line 20\",\n",
        "               \"Line 21\",\"Line 22\", \"Line 23\",\"Line 24\", \"Line 25\",\n",
        "               \"Line 26\",\"Line 27\", \"Line 28\",\"Line 29\", \"Line 30\",\n",
        "               \"Line 31\",\"Line 32\", \"Line 33\",\"Line 34\"]\n",
        "\n",
        "predicted_outage_line = line_labels[predicted_outage_index]\n",
        "\n",
        "actual_outage_index = int(y_test_tensor[sample_index].item())\n",
        "actual_outage_line = line_labels[actual_outage_index]\n",
        "\n",
        "\n",
        "print(f\"Predicted outage line: {predicted_outage_line}\")\n",
        "print(f\"Actual outage line:     {actual_outage_line}\")"
      ],
      "metadata": {
        "colab": {
          "base_uri": "https://localhost:8080/"
        },
        "id": "e6TM6rfVlYkF",
        "outputId": "d49c203f-05e8-4af0-89c5-4143681dd291"
      },
      "execution_count": 575,
      "outputs": [
        {
          "output_type": "stream",
          "name": "stdout",
          "text": [
            "Predicted outage line: Line 17\n",
            "Actual outage line:     Line 17\n"
          ]
        }
      ]
    },
    {
      "cell_type": "code",
      "source": [],
      "metadata": {
        "id": "WyeSscXeoxve"
      },
      "execution_count": null,
      "outputs": []
    }
  ]
}